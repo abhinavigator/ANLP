{
 "cells": [
  {
   "cell_type": "code",
   "execution_count": 1,
   "id": "e8ba23c3",
   "metadata": {
    "_cell_guid": "b1076dfc-b9ad-4769-8c92-a6c4dae69d19",
    "_uuid": "8f2839f25d086af736a60e9eeb907d3b93b6e0e5",
    "execution": {
     "iopub.execute_input": "2023-09-03T13:01:37.995260Z",
     "iopub.status.busy": "2023-09-03T13:01:37.994870Z",
     "iopub.status.idle": "2023-09-03T13:01:56.812154Z",
     "shell.execute_reply": "2023-09-03T13:01:56.811191Z"
    },
    "papermill": {
     "duration": 18.8325,
     "end_time": "2023-09-03T13:01:56.814703",
     "exception": false,
     "start_time": "2023-09-03T13:01:37.982203",
     "status": "completed"
    },
    "tags": []
   },
   "outputs": [
    {
     "name": "stderr",
     "output_type": "stream",
     "text": [
      "/opt/conda/lib/python3.10/site-packages/scipy/__init__.py:146: UserWarning: A NumPy version >=1.16.5 and <1.23.0 is required for this version of SciPy (detected version 1.23.5\n",
      "  warnings.warn(f\"A NumPy version >={np_minversion} and <{np_maxversion}\"\n"
     ]
    }
   ],
   "source": [
    "import torch\n",
    "import torch.nn as nn\n",
    "import torch.optim as optim\n",
    "from torch.utils.data import DataLoader, TensorDataset\n",
    "from collections import Counter\n",
    "from sklearn.model_selection import train_test_split\n",
    "from gensim.models import KeyedVectors\n",
    "import numpy as np\n",
    "import math"
   ]
  },
  {
   "cell_type": "code",
   "execution_count": 2,
   "id": "0b5f3159",
   "metadata": {
    "execution": {
     "iopub.execute_input": "2023-09-03T13:01:56.833998Z",
     "iopub.status.busy": "2023-09-03T13:01:56.833517Z",
     "iopub.status.idle": "2023-09-03T13:01:57.054772Z",
     "shell.execute_reply": "2023-09-03T13:01:57.053763Z"
    },
    "papermill": {
     "duration": 0.233325,
     "end_time": "2023-09-03T13:01:57.057250",
     "exception": false,
     "start_time": "2023-09-03T13:01:56.823925",
     "status": "completed"
    },
    "tags": []
   },
   "outputs": [],
   "source": [
    "# Read the text file (replace with your own path)\n",
    "with open('/kaggle/input/auguste/Auguste_Maquet.txt', 'r', encoding='utf-8') as file:\n",
    "    text = file.read()"
   ]
  },
  {
   "cell_type": "code",
   "execution_count": 3,
   "id": "81970fd7",
   "metadata": {
    "execution": {
     "iopub.execute_input": "2023-09-03T13:01:57.076191Z",
     "iopub.status.busy": "2023-09-03T13:01:57.075886Z",
     "iopub.status.idle": "2023-09-03T13:01:57.423558Z",
     "shell.execute_reply": "2023-09-03T13:01:57.422433Z"
    },
    "papermill": {
     "duration": 0.360007,
     "end_time": "2023-09-03T13:01:57.426026",
     "exception": false,
     "start_time": "2023-09-03T13:01:57.066019",
     "status": "completed"
    },
    "tags": []
   },
   "outputs": [],
   "source": [
    "# Tokenize and clean the text\n",
    "tokens = text.lower().split()\n",
    "tokens = [word.strip('.,!?;()[]{}\"\\'') for word in tokens]\n",
    "tokens = [word for word in tokens if word]"
   ]
  },
  {
   "cell_type": "code",
   "execution_count": 4,
   "id": "c2ae86a5",
   "metadata": {
    "execution": {
     "iopub.execute_input": "2023-09-03T13:01:57.446169Z",
     "iopub.status.busy": "2023-09-03T13:01:57.445773Z",
     "iopub.status.idle": "2023-09-03T13:01:57.604136Z",
     "shell.execute_reply": "2023-09-03T13:01:57.603114Z"
    },
    "papermill": {
     "duration": 0.170452,
     "end_time": "2023-09-03T13:01:57.606327",
     "exception": false,
     "start_time": "2023-09-03T13:01:57.435875",
     "status": "completed"
    },
    "tags": []
   },
   "outputs": [],
   "source": [
    "# Build vocabulary\n",
    "word_counts = Counter(tokens)\n",
    "vocab = {word: i for i, (word, _) in enumerate(word_counts.items())}\n",
    "vocab_size = len(vocab)"
   ]
  },
  {
   "cell_type": "code",
   "execution_count": 5,
   "id": "f456bf38",
   "metadata": {
    "execution": {
     "iopub.execute_input": "2023-09-03T13:01:57.626387Z",
     "iopub.status.busy": "2023-09-03T13:01:57.624925Z",
     "iopub.status.idle": "2023-09-03T13:01:57.875127Z",
     "shell.execute_reply": "2023-09-03T13:01:57.874106Z"
    },
    "papermill": {
     "duration": 0.262395,
     "end_time": "2023-09-03T13:01:57.877636",
     "exception": false,
     "start_time": "2023-09-03T13:01:57.615241",
     "status": "completed"
    },
    "tags": []
   },
   "outputs": [],
   "source": [
    "# Convert tokens to numerical indices\n",
    "token_indices = [vocab.get(token, vocab.get('<UNK>')) for token in tokens]"
   ]
  },
  {
   "cell_type": "code",
   "execution_count": 6,
   "id": "ab810a47",
   "metadata": {
    "execution": {
     "iopub.execute_input": "2023-09-03T13:01:57.896872Z",
     "iopub.status.busy": "2023-09-03T13:01:57.896558Z",
     "iopub.status.idle": "2023-09-03T13:03:07.122980Z",
     "shell.execute_reply": "2023-09-03T13:03:07.121992Z"
    },
    "papermill": {
     "duration": 69.238701,
     "end_time": "2023-09-03T13:03:07.125501",
     "exception": false,
     "start_time": "2023-09-03T13:01:57.886800",
     "status": "completed"
    },
    "tags": []
   },
   "outputs": [],
   "source": [
    "# Load pre-trained word2vec model\n",
    "word2vec = KeyedVectors.load_word2vec_format('/kaggle/input/nlpword2vecembeddingspretrained/GoogleNews-vectors-negative300.bin', binary=True)"
   ]
  },
  {
   "cell_type": "code",
   "execution_count": 7,
   "id": "6b6a3ec2",
   "metadata": {
    "execution": {
     "iopub.execute_input": "2023-09-03T13:03:07.144817Z",
     "iopub.status.busy": "2023-09-03T13:03:07.144521Z",
     "iopub.status.idle": "2023-09-03T13:03:07.312834Z",
     "shell.execute_reply": "2023-09-03T13:03:07.311673Z"
    },
    "papermill": {
     "duration": 0.180869,
     "end_time": "2023-09-03T13:03:07.315365",
     "exception": false,
     "start_time": "2023-09-03T13:03:07.134496",
     "status": "completed"
    },
    "tags": []
   },
   "outputs": [],
   "source": [
    "# Create a weight matrix for words in training docs\n",
    "embedding_dim = 300  # Assuming word2vec dim is 300\n",
    "embedding_matrix = np.zeros((vocab_size, embedding_dim))\n",
    "for word, i in vocab.items():\n",
    "    try:\n",
    "        embedding_vector = word2vec[word]\n",
    "        embedding_matrix[i] = embedding_vector\n",
    "    except KeyError:\n",
    "        pass"
   ]
  },
  {
   "cell_type": "code",
   "execution_count": 8,
   "id": "57eb3277",
   "metadata": {
    "execution": {
     "iopub.execute_input": "2023-09-03T13:03:07.336254Z",
     "iopub.status.busy": "2023-09-03T13:03:07.335450Z",
     "iopub.status.idle": "2023-09-03T13:03:10.009583Z",
     "shell.execute_reply": "2023-09-03T13:03:10.008574Z"
    },
    "papermill": {
     "duration": 2.687828,
     "end_time": "2023-09-03T13:03:10.012019",
     "exception": false,
     "start_time": "2023-09-03T13:03:07.324191",
     "status": "completed"
    },
    "tags": []
   },
   "outputs": [],
   "source": [
    "# ----- Create 5-gram Sequences -----\n",
    "\n",
    "context_size = 4\n",
    "sequences = np.array([token_indices[i:i + context_size + 1] for i in range(len(token_indices) - context_size)])\n",
    "X = sequences[:, :-1]\n",
    "y = sequences[:, -1]"
   ]
  },
  {
   "cell_type": "code",
   "execution_count": 9,
   "id": "39dd8cbb",
   "metadata": {
    "execution": {
     "iopub.execute_input": "2023-09-03T13:03:10.030751Z",
     "iopub.status.busy": "2023-09-03T13:03:10.030455Z",
     "iopub.status.idle": "2023-09-03T13:03:10.146255Z",
     "shell.execute_reply": "2023-09-03T13:03:10.145257Z"
    },
    "papermill": {
     "duration": 0.127862,
     "end_time": "2023-09-03T13:03:10.148732",
     "exception": false,
     "start_time": "2023-09-03T13:03:10.020870",
     "status": "completed"
    },
    "tags": []
   },
   "outputs": [],
   "source": [
    "# Split into training, validation, and test sets\n",
    "X_train, X_temp, y_train, y_temp = train_test_split(X, y, test_size=0.1, random_state=42)  # 90% training, 10% temp\n",
    "X_val, X_test, y_val, y_test = train_test_split(X_temp, y_temp, test_size=2/3, random_state=42)  # 10k validation, 20k test"
   ]
  },
  {
   "cell_type": "code",
   "execution_count": 10,
   "id": "cdbef856",
   "metadata": {
    "execution": {
     "iopub.execute_input": "2023-09-03T13:03:10.171315Z",
     "iopub.status.busy": "2023-09-03T13:03:10.170595Z",
     "iopub.status.idle": "2023-09-03T13:03:10.183899Z",
     "shell.execute_reply": "2023-09-03T13:03:10.182992Z"
    },
    "papermill": {
     "duration": 0.028355,
     "end_time": "2023-09-03T13:03:10.186099",
     "exception": false,
     "start_time": "2023-09-03T13:03:10.157744",
     "status": "completed"
    },
    "tags": []
   },
   "outputs": [
    {
     "data": {
      "text/plain": [
       "38287"
      ]
     },
     "execution_count": 10,
     "metadata": {},
     "output_type": "execute_result"
    }
   ],
   "source": [
    "vocab_size"
   ]
  },
  {
   "cell_type": "code",
   "execution_count": 11,
   "id": "428efda2",
   "metadata": {
    "execution": {
     "iopub.execute_input": "2023-09-03T13:03:10.204579Z",
     "iopub.status.busy": "2023-09-03T13:03:10.204310Z",
     "iopub.status.idle": "2023-09-03T13:03:10.265479Z",
     "shell.execute_reply": "2023-09-03T13:03:10.264565Z"
    },
    "papermill": {
     "duration": 0.073017,
     "end_time": "2023-09-03T13:03:10.267764",
     "exception": false,
     "start_time": "2023-09-03T13:03:10.194747",
     "status": "completed"
    },
    "tags": []
   },
   "outputs": [],
   "source": [
    "# Create DataLoader\n",
    "train_data = TensorDataset(torch.tensor(X_train, dtype=torch.long), torch.tensor(y_train, dtype=torch.long))\n",
    "train_loader = DataLoader(train_data, batch_size=128, shuffle=True)"
   ]
  },
  {
   "cell_type": "code",
   "execution_count": 12,
   "id": "f3657c30",
   "metadata": {
    "execution": {
     "iopub.execute_input": "2023-09-03T13:03:10.286715Z",
     "iopub.status.busy": "2023-09-03T13:03:10.286412Z",
     "iopub.status.idle": "2023-09-03T13:03:10.292044Z",
     "shell.execute_reply": "2023-09-03T13:03:10.291199Z"
    },
    "papermill": {
     "duration": 0.017494,
     "end_time": "2023-09-03T13:03:10.293991",
     "exception": false,
     "start_time": "2023-09-03T13:03:10.276497",
     "status": "completed"
    },
    "tags": []
   },
   "outputs": [
    {
     "data": {
      "text/plain": [
       "<torch.utils.data.dataset.TensorDataset at 0x7c292122da20>"
      ]
     },
     "execution_count": 12,
     "metadata": {},
     "output_type": "execute_result"
    }
   ],
   "source": [
    "train_data"
   ]
  },
  {
   "cell_type": "code",
   "execution_count": 13,
   "id": "69040be8",
   "metadata": {
    "execution": {
     "iopub.execute_input": "2023-09-03T13:03:10.313024Z",
     "iopub.status.busy": "2023-09-03T13:03:10.312323Z",
     "iopub.status.idle": "2023-09-03T13:03:10.319180Z",
     "shell.execute_reply": "2023-09-03T13:03:10.318177Z"
    },
    "papermill": {
     "duration": 0.018929,
     "end_time": "2023-09-03T13:03:10.321527",
     "exception": false,
     "start_time": "2023-09-03T13:03:10.302598",
     "status": "completed"
    },
    "tags": []
   },
   "outputs": [],
   "source": [
    "# Step 1: Define the Model Architecture\n",
    "\n",
    "class LanguageModel(nn.Module):\n",
    "    def __init__(self, vocab_size, embedding_dim, hidden_dim, num_layers):\n",
    "        super(LanguageModel, self).__init__()\n",
    "        \n",
    "        # Embedding Layer\n",
    "        self.embedding = nn.Embedding(vocab_size, embedding_dim)\n",
    "        \n",
    "        # LSTM Layer(s)\n",
    "        self.lstm = nn.LSTM(embedding_dim, hidden_dim, num_layers, batch_first=True)\n",
    "        \n",
    "        # Linear Layer\n",
    "        self.linear = nn.Linear(hidden_dim, vocab_size)\n",
    "        \n",
    "    def forward(self, x, hidden):\n",
    "        x = self.embedding(x)\n",
    "        out, hidden = self.lstm(x, hidden)\n",
    "        out = self.linear(out)\n",
    "        \n",
    "        return out, hidden\n",
    "\n"
   ]
  },
  {
   "cell_type": "code",
   "execution_count": 14,
   "id": "28b476db",
   "metadata": {
    "execution": {
     "iopub.execute_input": "2023-09-03T13:03:10.339712Z",
     "iopub.status.busy": "2023-09-03T13:03:10.339460Z",
     "iopub.status.idle": "2023-09-03T13:03:10.343622Z",
     "shell.execute_reply": "2023-09-03T13:03:10.342661Z"
    },
    "papermill": {
     "duration": 0.015453,
     "end_time": "2023-09-03T13:03:10.345545",
     "exception": false,
     "start_time": "2023-09-03T13:03:10.330092",
     "status": "completed"
    },
    "tags": []
   },
   "outputs": [],
   "source": [
    "vocab_size\n",
    "embedding_dim = 300\n",
    "hidden_dim = 256\n",
    "num_layers = 1"
   ]
  },
  {
   "cell_type": "code",
   "execution_count": 15,
   "id": "c57e938c",
   "metadata": {
    "execution": {
     "iopub.execute_input": "2023-09-03T13:03:10.374927Z",
     "iopub.status.busy": "2023-09-03T13:03:10.374626Z",
     "iopub.status.idle": "2023-09-03T13:03:10.611052Z",
     "shell.execute_reply": "2023-09-03T13:03:10.609977Z"
    },
    "papermill": {
     "duration": 0.253834,
     "end_time": "2023-09-03T13:03:10.613571",
     "exception": false,
     "start_time": "2023-09-03T13:03:10.359737",
     "status": "completed"
    },
    "tags": []
   },
   "outputs": [],
   "source": [
    "model = LanguageModel(vocab_size, embedding_dim, hidden_dim, num_layers)"
   ]
  },
  {
   "cell_type": "code",
   "execution_count": 16,
   "id": "b35f3738",
   "metadata": {
    "execution": {
     "iopub.execute_input": "2023-09-03T13:03:10.632700Z",
     "iopub.status.busy": "2023-09-03T13:03:10.632392Z",
     "iopub.status.idle": "2023-09-03T13:03:17.457791Z",
     "shell.execute_reply": "2023-09-03T13:03:17.456570Z"
    },
    "papermill": {
     "duration": 6.837781,
     "end_time": "2023-09-03T13:03:17.460361",
     "exception": false,
     "start_time": "2023-09-03T13:03:10.622580",
     "status": "completed"
    },
    "tags": []
   },
   "outputs": [],
   "source": [
    "if torch.cuda.is_available():\n",
    "    model = model.cuda()"
   ]
  },
  {
   "cell_type": "code",
   "execution_count": 17,
   "id": "139bcc18",
   "metadata": {
    "execution": {
     "iopub.execute_input": "2023-09-03T13:03:17.480356Z",
     "iopub.status.busy": "2023-09-03T13:03:17.479981Z",
     "iopub.status.idle": "2023-09-03T13:13:44.169542Z",
     "shell.execute_reply": "2023-09-03T13:13:44.168555Z"
    },
    "papermill": {
     "duration": 626.711351,
     "end_time": "2023-09-03T13:13:44.181332",
     "exception": false,
     "start_time": "2023-09-03T13:03:17.469981",
     "status": "completed"
    },
    "tags": []
   },
   "outputs": [
    {
     "name": "stdout",
     "output_type": "stream",
     "text": [
      "Epoch 1, Loss: 5.138498783111572\n",
      "Epoch 2, Loss: 5.0757551193237305\n",
      "Epoch 3, Loss: 4.727388381958008\n",
      "Epoch 4, Loss: 3.9919965267181396\n",
      "Epoch 5, Loss: 4.946998596191406\n"
     ]
    }
   ],
   "source": [
    "criterion = nn.CrossEntropyLoss()\n",
    "optimizer = torch.optim.Adam(model.parameters(), lr=0.001)\n",
    "\n",
    "if torch.cuda.is_available():\n",
    "    model = model.cuda()\n",
    "\n",
    "for epoch in range(5):\n",
    "#     hidden = None\n",
    "    \n",
    "    for batch_X, batch_y in train_loader:\n",
    "#         batch_size = batch_X.size(0)\n",
    "        \n",
    "#         hidden = (torch.zeros(num_layers, batch_size, hidden_dim).to(batch_X.device),\n",
    "#                   torch.zeros(num_layers, batch_size, hidden_dim).to(batch_X.device))\n",
    "        \n",
    "        \n",
    "        \n",
    "        \n",
    "        if torch.cuda.is_available():\n",
    "            batch_X , batch_y = batch_X.cuda(), batch_y.cuda()\n",
    "            \n",
    "        batch_size = batch_X.size(0)\n",
    "        \n",
    "        hidden = (torch.zeros(num_layers, batch_size, hidden_dim).to(batch_X.device),\n",
    "                  torch.zeros(num_layers, batch_size, hidden_dim).to(batch_X.device))\n",
    "        optimizer.zero_grad()\n",
    "        \n",
    "        out, hidden = model(batch_X, hidden)\n",
    "        \n",
    "        hidden = (hidden[0].detach(), hidden[1].detach())\n",
    "        \n",
    "        # Compute loss\n",
    "        loss = criterion(out[:, -1, :], batch_y)  # Use output corresponding to last token in sequence\n",
    "        \n",
    "#         loss = criterion(out.squeeze(1), batch_y)\n",
    "        \n",
    "        loss.backward()\n",
    "        \n",
    "        optimizer.step()\n",
    "        \n",
    "    print(f'Epoch {epoch+1}, Loss: {loss.item()}')"
   ]
  },
  {
   "cell_type": "code",
   "execution_count": 18,
   "id": "9482aa3d",
   "metadata": {
    "execution": {
     "iopub.execute_input": "2023-09-03T13:13:44.202719Z",
     "iopub.status.busy": "2023-09-03T13:13:44.202406Z",
     "iopub.status.idle": "2023-09-03T13:13:44.208153Z",
     "shell.execute_reply": "2023-09-03T13:13:44.207236Z"
    },
    "papermill": {
     "duration": 0.019837,
     "end_time": "2023-09-03T13:13:44.210301",
     "exception": false,
     "start_time": "2023-09-03T13:13:44.190464",
     "status": "completed"
    },
    "tags": []
   },
   "outputs": [],
   "source": [
    "# Create DataLoaders for validation and test sets\n",
    "val_data = TensorDataset(torch.tensor(X_val, dtype=torch.long), torch.tensor(y_val, dtype=torch.long))\n",
    "val_loader = DataLoader(val_data, batch_size=128)"
   ]
  },
  {
   "cell_type": "code",
   "execution_count": 19,
   "id": "2d70a631",
   "metadata": {
    "execution": {
     "iopub.execute_input": "2023-09-03T13:13:44.229751Z",
     "iopub.status.busy": "2023-09-03T13:13:44.229454Z",
     "iopub.status.idle": "2023-09-03T13:13:44.235451Z",
     "shell.execute_reply": "2023-09-03T13:13:44.234104Z"
    },
    "papermill": {
     "duration": 0.018452,
     "end_time": "2023-09-03T13:13:44.237755",
     "exception": false,
     "start_time": "2023-09-03T13:13:44.219303",
     "status": "completed"
    },
    "tags": []
   },
   "outputs": [],
   "source": [
    "test_data = TensorDataset(torch.tensor(X_test, dtype=torch.long), torch.tensor(y_test, dtype=torch.long))\n",
    "test_loader = DataLoader(test_data, batch_size=128)"
   ]
  },
  {
   "cell_type": "code",
   "execution_count": null,
   "id": "fde06d6e",
   "metadata": {
    "execution": {
     "iopub.execute_input": "2023-09-03T12:52:15.913572Z",
     "iopub.status.busy": "2023-09-03T12:52:15.912580Z",
     "iopub.status.idle": "2023-09-03T12:52:15.921400Z",
     "shell.execute_reply": "2023-09-03T12:52:15.920144Z",
     "shell.execute_reply.started": "2023-09-03T12:52:15.913535Z"
    },
    "papermill": {
     "duration": 0.008713,
     "end_time": "2023-09-03T13:13:44.255353",
     "exception": false,
     "start_time": "2023-09-03T13:13:44.246640",
     "status": "completed"
    },
    "tags": []
   },
   "outputs": [],
   "source": []
  },
  {
   "cell_type": "code",
   "execution_count": 20,
   "id": "20f77d91",
   "metadata": {
    "execution": {
     "iopub.execute_input": "2023-09-03T13:13:44.274621Z",
     "iopub.status.busy": "2023-09-03T13:13:44.274350Z",
     "iopub.status.idle": "2023-09-03T13:13:44.282384Z",
     "shell.execute_reply": "2023-09-03T13:13:44.281396Z"
    },
    "papermill": {
     "duration": 0.019903,
     "end_time": "2023-09-03T13:13:44.284372",
     "exception": false,
     "start_time": "2023-09-03T13:13:44.264469",
     "status": "completed"
    },
    "tags": []
   },
   "outputs": [],
   "source": [
    "import math\n",
    "\n",
    "def calculate_perplexity(data_loader, model, criterion, device='cuda:0'):\n",
    "    model.eval()\n",
    "    total_loss = 0\n",
    "    total_count = 0\n",
    "    model.to(device)\n",
    "    with torch.no_grad():\n",
    "        hidden = None\n",
    "        for batch_X, batch_y in data_loader:\n",
    "            batch_X, batch_y = batch_X.to(device), batch_y.to(device)\n",
    "            \n",
    "            # Initialize hidden state dynamically based on batch size\n",
    "            batch_size = batch_X.size(0)\n",
    "            hidden = (torch.zeros(num_layers, batch_size, hidden_dim).to(batch_X.device),\n",
    "                      torch.zeros(num_layers, batch_size, hidden_dim).to(batch_X.device))\n",
    "            \n",
    "            out, hidden = model(batch_X, hidden)\n",
    "            \n",
    "            # Note: No need to squeeze 'out' here\n",
    "            loss = criterion(out[:, -1, :], batch_y)  # Use output corresponding to last token in sequence\n",
    "            \n",
    "            total_loss += loss.item() * len(batch_y)\n",
    "            total_count += len(batch_y)\n",
    "            \n",
    "    return math.exp(total_loss / total_count)  # Fixed typo: \"lotal_count\" to \"total_count\"\n"
   ]
  },
  {
   "cell_type": "code",
   "execution_count": 21,
   "id": "8e78ee7b",
   "metadata": {
    "execution": {
     "iopub.execute_input": "2023-09-03T13:13:44.303785Z",
     "iopub.status.busy": "2023-09-03T13:13:44.303027Z",
     "iopub.status.idle": "2023-09-03T13:14:21.946358Z",
     "shell.execute_reply": "2023-09-03T13:14:21.945299Z"
    },
    "papermill": {
     "duration": 37.655452,
     "end_time": "2023-09-03T13:14:21.948751",
     "exception": false,
     "start_time": "2023-09-03T13:13:44.293299",
     "status": "completed"
    },
    "tags": []
   },
   "outputs": [],
   "source": [
    "# Calculate perplexity\n",
    "val_perplexity = calculate_perplexity(val_loader, model,criterion )\n",
    "test_perplexity = calculate_perplexity(test_loader, model, criterion)\n",
    "train_perplexity = calculate_perplexity(train_loader, model , criterion)"
   ]
  },
  {
   "cell_type": "code",
   "execution_count": 22,
   "id": "7cf65f83",
   "metadata": {
    "execution": {
     "iopub.execute_input": "2023-09-03T13:14:21.970368Z",
     "iopub.status.busy": "2023-09-03T13:14:21.968849Z",
     "iopub.status.idle": "2023-09-03T13:14:21.976254Z",
     "shell.execute_reply": "2023-09-03T13:14:21.975335Z"
    },
    "papermill": {
     "duration": 0.019712,
     "end_time": "2023-09-03T13:14:21.978284",
     "exception": false,
     "start_time": "2023-09-03T13:14:21.958572",
     "status": "completed"
    },
    "tags": []
   },
   "outputs": [
    {
     "name": "stdout",
     "output_type": "stream",
     "text": [
      "Validation Perplexity: 345.61\n",
      "Test Perplexity: 343.84\n",
      "Train Perplexity: 38.56\n"
     ]
    }
   ],
   "source": [
    "print(f\"Validation Perplexity: {val_perplexity:.2f}\")\n",
    "print(f\"Test Perplexity: {test_perplexity:.2f}\")\n",
    "print(f\"Train Perplexity: {train_perplexity:.2f}\")"
   ]
  },
  {
   "cell_type": "code",
   "execution_count": null,
   "id": "be753a92",
   "metadata": {
    "papermill": {
     "duration": 0.009027,
     "end_time": "2023-09-03T13:14:21.996622",
     "exception": false,
     "start_time": "2023-09-03T13:14:21.987595",
     "status": "completed"
    },
    "tags": []
   },
   "outputs": [],
   "source": []
  },
  {
   "cell_type": "code",
   "execution_count": null,
   "id": "ecb33f6f",
   "metadata": {
    "papermill": {
     "duration": 0.008735,
     "end_time": "2023-09-03T13:14:22.014472",
     "exception": false,
     "start_time": "2023-09-03T13:14:22.005737",
     "status": "completed"
    },
    "tags": []
   },
   "outputs": [],
   "source": []
  },
  {
   "cell_type": "code",
   "execution_count": null,
   "id": "09b66aa3",
   "metadata": {
    "papermill": {
     "duration": 0.009326,
     "end_time": "2023-09-03T13:14:22.032871",
     "exception": false,
     "start_time": "2023-09-03T13:14:22.023545",
     "status": "completed"
    },
    "tags": []
   },
   "outputs": [],
   "source": []
  }
 ],
 "kernelspec": {
  "display_name": "Python 3",
  "language": "python",
  "name": "python3"
 },
 "language_info": {
  "codemirror_mode": {
   "name": "ipython",
   "version": 3
  },
  "file_extension": ".py",
  "mimetype": "text/x-python",
  "name": "python",
  "nbconvert_exporter": "python",
  "pygments_lexer": "ipython3",
  "version": "3.6.4"
 },
 "metadata": {
  "kernelspec": {
   "display_name": "Python 3",
   "language": "python",
   "name": "python3"
  },
  "language_info": {
   "codemirror_mode": {
    "name": "ipython",
    "version": 3
   },
   "file_extension": ".py",
   "mimetype": "text/x-python",
   "name": "python",
   "nbconvert_exporter": "python",
   "pygments_lexer": "ipython3",
   "version": "3.10.12"
  },
  "papermill": {
   "default_parameters": {},
   "duration": 771.124364,
   "end_time": "2023-09-03T13:14:25.341793",
   "environment_variables": {},
   "exception": null,
   "input_path": "__notebook__.ipynb",
   "output_path": "__notebook__.ipynb",
   "parameters": {},
   "start_time": "2023-09-03T13:01:34.217429",
   "version": "2.4.0"
  }
 },
 "nbformat": 4,
 "nbformat_minor": 5
}
